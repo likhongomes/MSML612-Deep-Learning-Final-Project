{
 "cells": [
  {
   "cell_type": "code",
   "execution_count": 19,
   "id": "89a23065-57ea-4e40-9df4-9464d23523e0",
   "metadata": {},
   "outputs": [],
   "source": [
    "import pandas as pd\n",
    "import holidays\n",
    "from datetime import timedelta"
   ]
  },
  {
   "cell_type": "markdown",
   "id": "e828ec5f-8644-4a31-b899-b8352899310b",
   "metadata": {},
   "source": [
    "#### Read in cleaned data after running initial_data_cleaning.ipynb"
   ]
  },
  {
   "cell_type": "code",
   "execution_count": 42,
   "id": "dcbb3ff4-6034-4aa7-86e3-c25a5292a4e3",
   "metadata": {},
   "outputs": [
    {
     "name": "stderr",
     "output_type": "stream",
     "text": [
      "/var/folders/_v/kcxy22753vjfn9jc355xsgs00000gn/T/ipykernel_64247/4208363470.py:1: DtypeWarning: Columns (21) have mixed types. Specify dtype option on import or set low_memory=False.\n",
      "  df = pd.read_csv('Data/cleaned_parking_violations_v1.csv')\n"
     ]
    }
   ],
   "source": [
    "df = pd.read_csv('Data/cleaned_parking_violations_v1.csv')"
   ]
  },
  {
   "cell_type": "code",
   "execution_count": 45,
   "id": "918d10ce-5209-430c-aed6-b1fdd669cfdb",
   "metadata": {},
   "outputs": [
    {
     "name": "stdout",
     "output_type": "stream",
     "text": [
      "2023-01-01 00:00:00 2025-05-31 22:04:00\n",
      "issue_datetime\n",
      "2023    1188667\n",
      "2024    1164464\n",
      "2025     436000\n",
      "Name: count, dtype: int64\n"
     ]
    }
   ],
   "source": [
    "df[\"issue_datetime\"] = pd.to_datetime(df[\"issue_datetime\"], errors=\"coerce\")\n",
    "print(df[\"issue_datetime\"].min(), df[\"issue_datetime\"].max())\n",
    "print(df[\"issue_datetime\"].dt.year.value_counts())"
   ]
  },
  {
   "cell_type": "code",
   "execution_count": 46,
   "id": "5cf3ae75-9a4d-4419-9bae-1c71667a9268",
   "metadata": {},
   "outputs": [
    {
     "data": {
      "text/plain": [
       "is_fleet_gov_or_rental\n",
       "False         16\n",
       "True     2789115\n",
       "Name: count, dtype: int64"
      ]
     },
     "execution_count": 46,
     "metadata": {},
     "output_type": "execute_result"
    }
   ],
   "source": [
    "df['is_fleet_gov_or_rental'].value_counts().sort_index()"
   ]
  },
  {
   "cell_type": "markdown",
   "id": "31fbe56c-3831-4c4b-9bee-95102d67c34a",
   "metadata": {},
   "source": [
    "#### Convert into weekly time series"
   ]
  },
  {
   "cell_type": "code",
   "execution_count": 47,
   "id": "510e6af1-af9d-4241-bacd-b16708d75196",
   "metadata": {},
   "outputs": [
    {
     "data": {
      "text/html": [
       "<div>\n",
       "<style scoped>\n",
       "    .dataframe tbody tr th:only-of-type {\n",
       "        vertical-align: middle;\n",
       "    }\n",
       "\n",
       "    .dataframe tbody tr th {\n",
       "        vertical-align: top;\n",
       "    }\n",
       "\n",
       "    .dataframe thead th {\n",
       "        text-align: right;\n",
       "    }\n",
       "</style>\n",
       "<table border=\"1\" class=\"dataframe\">\n",
       "  <thead>\n",
       "    <tr style=\"text-align: right;\">\n",
       "      <th></th>\n",
       "      <th>objectid</th>\n",
       "      <th>ticket_number</th>\n",
       "      <th>issuing_agency_code</th>\n",
       "      <th>issuing_agency_name</th>\n",
       "      <th>issuing_agency_short</th>\n",
       "      <th>violation_code</th>\n",
       "      <th>location</th>\n",
       "      <th>plate_state</th>\n",
       "      <th>disposition_code</th>\n",
       "      <th>disposition_type</th>\n",
       "      <th>...</th>\n",
       "      <th>violation_type_desc</th>\n",
       "      <th>issue_datetime</th>\n",
       "      <th>year</th>\n",
       "      <th>month</th>\n",
       "      <th>day</th>\n",
       "      <th>day_of_week</th>\n",
       "      <th>hour</th>\n",
       "      <th>is_weekend</th>\n",
       "      <th>Unnamed: 29</th>\n",
       "      <th>is_fleet_gov_or_rental</th>\n",
       "    </tr>\n",
       "  </thead>\n",
       "  <tbody>\n",
       "  </tbody>\n",
       "</table>\n",
       "<p>0 rows × 31 columns</p>\n",
       "</div>"
      ],
      "text/plain": [
       "Empty DataFrame\n",
       "Columns: [objectid, ticket_number, issuing_agency_code, issuing_agency_name, issuing_agency_short, violation_code, location, plate_state, disposition_code, disposition_type, fine_amount, total_paid, penalty_1, penalty_2, penalty_3, penalty_4, penalty_5, latitude, longitude, gis_last_mod_dttm, violation_proc_desc, violation_type_desc, issue_datetime, year, month, day, day_of_week, hour, is_weekend, Unnamed: 29, is_fleet_gov_or_rental]\n",
       "Index: []\n",
       "\n",
       "[0 rows x 31 columns]"
      ]
     },
     "execution_count": 47,
     "metadata": {},
     "output_type": "execute_result"
    }
   ],
   "source": [
    "df[df['issue_datetime'].isna()]"
   ]
  },
  {
   "cell_type": "code",
   "execution_count": 48,
   "id": "317bf506-e826-4844-be39-b74b4be19800",
   "metadata": {},
   "outputs": [],
   "source": [
    "df['issue_datetime'] = pd.to_datetime(df['issue_datetime'], errors='coerce').dt.tz_localize(None)\n",
    "\n",
    "df['week'] = df['issue_datetime'].dt.to_period('W').apply(lambda r: r.start_time)\n",
    "\n",
    "weekly_counts = df.groupby('week').size().reset_index(name='num_violations')\n",
    "\n",
    "weekly_counts['year'] = weekly_counts['week'].dt.year\n",
    "weekly_counts['month'] = weekly_counts['week'].dt.month\n",
    "\n",
    "weekly_counts['weekofyear'] = weekly_counts['week'].dt.isocalendar().week\n",
    "\n",
    "us_holidays = holidays.US(years=weekly_counts['year'].unique())"
   ]
  },
  {
   "cell_type": "code",
   "execution_count": 49,
   "id": "8dfc7633-ee1a-4ad9-afbf-317846a4ef08",
   "metadata": {},
   "outputs": [
    {
     "data": {
      "text/html": [
       "<div>\n",
       "<style scoped>\n",
       "    .dataframe tbody tr th:only-of-type {\n",
       "        vertical-align: middle;\n",
       "    }\n",
       "\n",
       "    .dataframe tbody tr th {\n",
       "        vertical-align: top;\n",
       "    }\n",
       "\n",
       "    .dataframe thead th {\n",
       "        text-align: right;\n",
       "    }\n",
       "</style>\n",
       "<table border=\"1\" class=\"dataframe\">\n",
       "  <thead>\n",
       "    <tr style=\"text-align: right;\">\n",
       "      <th></th>\n",
       "      <th>week</th>\n",
       "      <th>num_violations</th>\n",
       "      <th>year</th>\n",
       "      <th>month</th>\n",
       "      <th>weekofyear</th>\n",
       "      <th>is_holiday_week</th>\n",
       "      <th>DDOT</th>\n",
       "      <th>DPW</th>\n",
       "      <th>MPD-1D</th>\n",
       "      <th>MPD-3D</th>\n",
       "      <th>OTHER</th>\n",
       "      <th>USCP</th>\n",
       "    </tr>\n",
       "  </thead>\n",
       "  <tbody>\n",
       "    <tr>\n",
       "      <th>0</th>\n",
       "      <td>2022-12-26</td>\n",
       "      <td>239</td>\n",
       "      <td>2022</td>\n",
       "      <td>12</td>\n",
       "      <td>52</td>\n",
       "      <td>True</td>\n",
       "      <td>0</td>\n",
       "      <td>189</td>\n",
       "      <td>1</td>\n",
       "      <td>8</td>\n",
       "      <td>37</td>\n",
       "      <td>4</td>\n",
       "    </tr>\n",
       "    <tr>\n",
       "      <th>1</th>\n",
       "      <td>2023-01-02</td>\n",
       "      <td>20130</td>\n",
       "      <td>2023</td>\n",
       "      <td>1</td>\n",
       "      <td>1</td>\n",
       "      <td>True</td>\n",
       "      <td>0</td>\n",
       "      <td>19578</td>\n",
       "      <td>52</td>\n",
       "      <td>34</td>\n",
       "      <td>408</td>\n",
       "      <td>58</td>\n",
       "    </tr>\n",
       "    <tr>\n",
       "      <th>2</th>\n",
       "      <td>2023-01-09</td>\n",
       "      <td>28508</td>\n",
       "      <td>2023</td>\n",
       "      <td>1</td>\n",
       "      <td>2</td>\n",
       "      <td>False</td>\n",
       "      <td>0</td>\n",
       "      <td>27914</td>\n",
       "      <td>47</td>\n",
       "      <td>29</td>\n",
       "      <td>471</td>\n",
       "      <td>47</td>\n",
       "    </tr>\n",
       "    <tr>\n",
       "      <th>3</th>\n",
       "      <td>2023-01-16</td>\n",
       "      <td>23264</td>\n",
       "      <td>2023</td>\n",
       "      <td>1</td>\n",
       "      <td>3</td>\n",
       "      <td>True</td>\n",
       "      <td>0</td>\n",
       "      <td>22667</td>\n",
       "      <td>59</td>\n",
       "      <td>55</td>\n",
       "      <td>442</td>\n",
       "      <td>41</td>\n",
       "    </tr>\n",
       "    <tr>\n",
       "      <th>4</th>\n",
       "      <td>2023-01-23</td>\n",
       "      <td>28931</td>\n",
       "      <td>2023</td>\n",
       "      <td>1</td>\n",
       "      <td>4</td>\n",
       "      <td>False</td>\n",
       "      <td>0</td>\n",
       "      <td>28420</td>\n",
       "      <td>64</td>\n",
       "      <td>35</td>\n",
       "      <td>351</td>\n",
       "      <td>61</td>\n",
       "    </tr>\n",
       "  </tbody>\n",
       "</table>\n",
       "</div>"
      ],
      "text/plain": [
       "        week  num_violations  year  month  weekofyear  is_holiday_week  DDOT  \\\n",
       "0 2022-12-26             239  2022     12          52             True     0   \n",
       "1 2023-01-02           20130  2023      1           1             True     0   \n",
       "2 2023-01-09           28508  2023      1           2            False     0   \n",
       "3 2023-01-16           23264  2023      1           3             True     0   \n",
       "4 2023-01-23           28931  2023      1           4            False     0   \n",
       "\n",
       "     DPW  MPD-1D  MPD-3D  OTHER  USCP  \n",
       "0    189       1       8     37     4  \n",
       "1  19578      52      34    408    58  \n",
       "2  27914      47      29    471    47  \n",
       "3  22667      59      55    442    41  \n",
       "4  28420      64      35    351    61  "
      ]
     },
     "execution_count": 49,
     "metadata": {},
     "output_type": "execute_result"
    }
   ],
   "source": [
    "def has_holiday_in_week(week_start):\n",
    "    return any((week_start + timedelta(days=i)) in us_holidays for i in range(7))\n",
    "\n",
    "weekly_counts['is_holiday_week'] = weekly_counts['week'].apply(has_holiday_in_week)\n",
    "\n",
    "top_agencies = df['issuing_agency_short'].value_counts().head(5).index.tolist()\n",
    "df['agency_group'] = df['issuing_agency_short'].where(df['issuing_agency_short'].isin(top_agencies), 'OTHER')\n",
    "\n",
    "agency_weekly = df.groupby(['week', 'agency_group']).size().unstack(fill_value=0).reset_index()\n",
    "\n",
    "weekly_counts = weekly_counts.merge(agency_weekly, on='week', how='left')\n",
    "\n",
    "weekly_counts.fillna(0, inplace=True)\n",
    "\n",
    "weekly_counts.head()"
   ]
  },
  {
   "cell_type": "code",
   "execution_count": 50,
   "id": "9902a5f3-ca92-45e8-b185-2710f67cacfb",
   "metadata": {},
   "outputs": [
    {
     "data": {
      "text/html": [
       "<div>\n",
       "<style scoped>\n",
       "    .dataframe tbody tr th:only-of-type {\n",
       "        vertical-align: middle;\n",
       "    }\n",
       "\n",
       "    .dataframe tbody tr th {\n",
       "        vertical-align: top;\n",
       "    }\n",
       "\n",
       "    .dataframe thead th {\n",
       "        text-align: right;\n",
       "    }\n",
       "</style>\n",
       "<table border=\"1\" class=\"dataframe\">\n",
       "  <thead>\n",
       "    <tr style=\"text-align: right;\">\n",
       "      <th></th>\n",
       "      <th>week</th>\n",
       "      <th>num_violations</th>\n",
       "      <th>year</th>\n",
       "      <th>month</th>\n",
       "      <th>weekofyear</th>\n",
       "      <th>is_holiday_week</th>\n",
       "      <th>DDOT</th>\n",
       "      <th>DPW</th>\n",
       "      <th>MPD-1D</th>\n",
       "      <th>MPD-3D</th>\n",
       "      <th>OTHER</th>\n",
       "      <th>USCP</th>\n",
       "    </tr>\n",
       "  </thead>\n",
       "  <tbody>\n",
       "    <tr>\n",
       "      <th>0</th>\n",
       "      <td>2022-12-26</td>\n",
       "      <td>239</td>\n",
       "      <td>2022</td>\n",
       "      <td>12</td>\n",
       "      <td>52</td>\n",
       "      <td>True</td>\n",
       "      <td>0</td>\n",
       "      <td>189</td>\n",
       "      <td>1</td>\n",
       "      <td>8</td>\n",
       "      <td>37</td>\n",
       "      <td>4</td>\n",
       "    </tr>\n",
       "    <tr>\n",
       "      <th>36</th>\n",
       "      <td>2023-09-25</td>\n",
       "      <td>465</td>\n",
       "      <td>2023</td>\n",
       "      <td>9</td>\n",
       "      <td>39</td>\n",
       "      <td>False</td>\n",
       "      <td>12</td>\n",
       "      <td>367</td>\n",
       "      <td>2</td>\n",
       "      <td>16</td>\n",
       "      <td>68</td>\n",
       "      <td>0</td>\n",
       "    </tr>\n",
       "    <tr>\n",
       "      <th>103</th>\n",
       "      <td>2025-01-06</td>\n",
       "      <td>7802</td>\n",
       "      <td>2025</td>\n",
       "      <td>1</td>\n",
       "      <td>2</td>\n",
       "      <td>False</td>\n",
       "      <td>32</td>\n",
       "      <td>7474</td>\n",
       "      <td>26</td>\n",
       "      <td>31</td>\n",
       "      <td>221</td>\n",
       "      <td>18</td>\n",
       "    </tr>\n",
       "    <tr>\n",
       "      <th>101</th>\n",
       "      <td>2024-12-23</td>\n",
       "      <td>8966</td>\n",
       "      <td>2024</td>\n",
       "      <td>12</td>\n",
       "      <td>52</td>\n",
       "      <td>True</td>\n",
       "      <td>13</td>\n",
       "      <td>8807</td>\n",
       "      <td>14</td>\n",
       "      <td>13</td>\n",
       "      <td>119</td>\n",
       "      <td>0</td>\n",
       "    </tr>\n",
       "    <tr>\n",
       "      <th>52</th>\n",
       "      <td>2024-01-15</td>\n",
       "      <td>10928</td>\n",
       "      <td>2024</td>\n",
       "      <td>1</td>\n",
       "      <td>3</td>\n",
       "      <td>True</td>\n",
       "      <td>452</td>\n",
       "      <td>10014</td>\n",
       "      <td>60</td>\n",
       "      <td>73</td>\n",
       "      <td>325</td>\n",
       "      <td>4</td>\n",
       "    </tr>\n",
       "  </tbody>\n",
       "</table>\n",
       "</div>"
      ],
      "text/plain": [
       "          week  num_violations  year  month  weekofyear  is_holiday_week  \\\n",
       "0   2022-12-26             239  2022     12          52             True   \n",
       "36  2023-09-25             465  2023      9          39            False   \n",
       "103 2025-01-06            7802  2025      1           2            False   \n",
       "101 2024-12-23            8966  2024     12          52             True   \n",
       "52  2024-01-15           10928  2024      1           3             True   \n",
       "\n",
       "     DDOT    DPW  MPD-1D  MPD-3D  OTHER  USCP  \n",
       "0       0    189       1       8     37     4  \n",
       "36     12    367       2      16     68     0  \n",
       "103    32   7474      26      31    221    18  \n",
       "101    13   8807      14      13    119     0  \n",
       "52    452  10014      60      73    325     4  "
      ]
     },
     "execution_count": 50,
     "metadata": {},
     "output_type": "execute_result"
    }
   ],
   "source": [
    "weekly_counts.sort_values(\"num_violations\").head(5)"
   ]
  },
  {
   "cell_type": "code",
   "execution_count": 51,
   "id": "4ea17f66-c90d-45e8-922b-30f3e2941e18",
   "metadata": {},
   "outputs": [
    {
     "data": {
      "text/plain": [
       "is_holiday_week\n",
       "False    98\n",
       "True     26\n",
       "Name: count, dtype: int64"
      ]
     },
     "execution_count": 51,
     "metadata": {},
     "output_type": "execute_result"
    }
   ],
   "source": [
    "weekly_counts[\"is_holiday_week\"].value_counts()"
   ]
  },
  {
   "cell_type": "markdown",
   "id": "fbd58c34-895e-4f9d-bd54-9faa7d018d31",
   "metadata": {},
   "source": [
    "Identify what weeks have 0 parking violations"
   ]
  },
  {
   "cell_type": "code",
   "execution_count": 52,
   "id": "eba95b83-2c43-46ef-9004-c8b5df8b2617",
   "metadata": {},
   "outputs": [
    {
     "data": {
      "text/html": [
       "<div>\n",
       "<style scoped>\n",
       "    .dataframe tbody tr th:only-of-type {\n",
       "        vertical-align: middle;\n",
       "    }\n",
       "\n",
       "    .dataframe tbody tr th {\n",
       "        vertical-align: top;\n",
       "    }\n",
       "\n",
       "    .dataframe thead th {\n",
       "        text-align: right;\n",
       "    }\n",
       "</style>\n",
       "<table border=\"1\" class=\"dataframe\">\n",
       "  <thead>\n",
       "    <tr style=\"text-align: right;\">\n",
       "      <th></th>\n",
       "      <th>week</th>\n",
       "      <th>num_violations</th>\n",
       "    </tr>\n",
       "  </thead>\n",
       "  <tbody>\n",
       "    <tr>\n",
       "      <th>36</th>\n",
       "      <td>2023-09-04</td>\n",
       "      <td>NaN</td>\n",
       "    </tr>\n",
       "    <tr>\n",
       "      <th>37</th>\n",
       "      <td>2023-09-11</td>\n",
       "      <td>NaN</td>\n",
       "    </tr>\n",
       "    <tr>\n",
       "      <th>38</th>\n",
       "      <td>2023-09-18</td>\n",
       "      <td>NaN</td>\n",
       "    </tr>\n",
       "  </tbody>\n",
       "</table>\n",
       "</div>"
      ],
      "text/plain": [
       "         week  num_violations\n",
       "36 2023-09-04             NaN\n",
       "37 2023-09-11             NaN\n",
       "38 2023-09-18             NaN"
      ]
     },
     "execution_count": 52,
     "metadata": {},
     "output_type": "execute_result"
    }
   ],
   "source": [
    "full_weeks = pd.date_range(start=weekly_counts['week'].min(), \n",
    "                           end=weekly_counts['week'].max(), \n",
    "                           freq='W-MON')  # Assuming weeks start on Monday\n",
    "\n",
    "full_weeks_df = pd.DataFrame({'week': full_weeks})\n",
    "\n",
    "merged = full_weeks_df.merge(weekly_counts[['week', 'num_violations']], on='week', how='left')\n",
    "\n",
    "zero_violation_weeks = merged[merged['num_violations'].isna()]\n",
    "\n",
    "zero_violation_weeks.head()"
   ]
  },
  {
   "cell_type": "code",
   "execution_count": 67,
   "id": "cb213896-d245-4189-add1-3f8228b583ee",
   "metadata": {},
   "outputs": [
    {
     "data": {
      "text/plain": [
       "3"
      ]
     },
     "execution_count": 67,
     "metadata": {},
     "output_type": "execute_result"
    }
   ],
   "source": [
    "len(zero_violation_weeks)"
   ]
  },
  {
   "cell_type": "code",
   "execution_count": 65,
   "id": "2e12ce44-ccda-47e9-b09c-a562c0988770",
   "metadata": {},
   "outputs": [],
   "source": [
    "zero_violation_weeks.to_csv('Data/weeks_without_violations.csv', index=False)"
   ]
  },
  {
   "cell_type": "code",
   "execution_count": 66,
   "id": "4ca781c6-c024-4b4d-a387-efc15f6e8411",
   "metadata": {},
   "outputs": [],
   "source": [
    "weekly_counts.to_csv('Data/weekly_timeseries_parking_violations_v2.csv', index=False)"
   ]
  },
  {
   "cell_type": "markdown",
   "id": "8364b52b-9800-4b0a-a3c6-1cb3e8c975ee",
   "metadata": {},
   "source": [
    "#### Convert into daily time series"
   ]
  },
  {
   "cell_type": "code",
   "execution_count": 53,
   "id": "0cce0594-4308-4682-806c-2ef092ae2d59",
   "metadata": {},
   "outputs": [
    {
     "data": {
      "text/html": [
       "<div>\n",
       "<style scoped>\n",
       "    .dataframe tbody tr th:only-of-type {\n",
       "        vertical-align: middle;\n",
       "    }\n",
       "\n",
       "    .dataframe tbody tr th {\n",
       "        vertical-align: top;\n",
       "    }\n",
       "\n",
       "    .dataframe thead th {\n",
       "        text-align: right;\n",
       "    }\n",
       "</style>\n",
       "<table border=\"1\" class=\"dataframe\">\n",
       "  <thead>\n",
       "    <tr style=\"text-align: right;\">\n",
       "      <th></th>\n",
       "      <th>date</th>\n",
       "      <th>num_violations</th>\n",
       "      <th>year</th>\n",
       "      <th>month</th>\n",
       "      <th>is_holiday</th>\n",
       "      <th>is_weekend</th>\n",
       "      <th>day_of_week</th>\n",
       "      <th>DDOT</th>\n",
       "      <th>DPW</th>\n",
       "      <th>MPD-1D</th>\n",
       "      <th>MPD-3D</th>\n",
       "      <th>OTHER</th>\n",
       "      <th>USCP</th>\n",
       "    </tr>\n",
       "  </thead>\n",
       "  <tbody>\n",
       "    <tr>\n",
       "      <th>0</th>\n",
       "      <td>2023-01-01</td>\n",
       "      <td>239</td>\n",
       "      <td>2023</td>\n",
       "      <td>1</td>\n",
       "      <td>True</td>\n",
       "      <td>True</td>\n",
       "      <td>Sunday</td>\n",
       "      <td>0</td>\n",
       "      <td>189</td>\n",
       "      <td>1</td>\n",
       "      <td>8</td>\n",
       "      <td>37</td>\n",
       "      <td>4</td>\n",
       "    </tr>\n",
       "    <tr>\n",
       "      <th>1</th>\n",
       "      <td>2023-01-02</td>\n",
       "      <td>232</td>\n",
       "      <td>2023</td>\n",
       "      <td>1</td>\n",
       "      <td>True</td>\n",
       "      <td>False</td>\n",
       "      <td>Monday</td>\n",
       "      <td>0</td>\n",
       "      <td>171</td>\n",
       "      <td>6</td>\n",
       "      <td>2</td>\n",
       "      <td>53</td>\n",
       "      <td>0</td>\n",
       "    </tr>\n",
       "    <tr>\n",
       "      <th>2</th>\n",
       "      <td>2023-01-03</td>\n",
       "      <td>3401</td>\n",
       "      <td>2023</td>\n",
       "      <td>1</td>\n",
       "      <td>False</td>\n",
       "      <td>False</td>\n",
       "      <td>Tuesday</td>\n",
       "      <td>0</td>\n",
       "      <td>3334</td>\n",
       "      <td>1</td>\n",
       "      <td>8</td>\n",
       "      <td>33</td>\n",
       "      <td>25</td>\n",
       "    </tr>\n",
       "    <tr>\n",
       "      <th>3</th>\n",
       "      <td>2023-01-04</td>\n",
       "      <td>4990</td>\n",
       "      <td>2023</td>\n",
       "      <td>1</td>\n",
       "      <td>False</td>\n",
       "      <td>False</td>\n",
       "      <td>Wednesday</td>\n",
       "      <td>0</td>\n",
       "      <td>4925</td>\n",
       "      <td>1</td>\n",
       "      <td>3</td>\n",
       "      <td>48</td>\n",
       "      <td>13</td>\n",
       "    </tr>\n",
       "    <tr>\n",
       "      <th>4</th>\n",
       "      <td>2023-01-05</td>\n",
       "      <td>5263</td>\n",
       "      <td>2023</td>\n",
       "      <td>1</td>\n",
       "      <td>False</td>\n",
       "      <td>False</td>\n",
       "      <td>Thursday</td>\n",
       "      <td>0</td>\n",
       "      <td>5141</td>\n",
       "      <td>2</td>\n",
       "      <td>10</td>\n",
       "      <td>92</td>\n",
       "      <td>18</td>\n",
       "    </tr>\n",
       "  </tbody>\n",
       "</table>\n",
       "</div>"
      ],
      "text/plain": [
       "        date  num_violations  year  month  is_holiday  is_weekend day_of_week  \\\n",
       "0 2023-01-01             239  2023      1        True        True      Sunday   \n",
       "1 2023-01-02             232  2023      1        True       False      Monday   \n",
       "2 2023-01-03            3401  2023      1       False       False     Tuesday   \n",
       "3 2023-01-04            4990  2023      1       False       False   Wednesday   \n",
       "4 2023-01-05            5263  2023      1       False       False    Thursday   \n",
       "\n",
       "   DDOT   DPW  MPD-1D  MPD-3D  OTHER  USCP  \n",
       "0     0   189       1       8     37     4  \n",
       "1     0   171       6       2     53     0  \n",
       "2     0  3334       1       8     33    25  \n",
       "3     0  4925       1       3     48    13  \n",
       "4     0  5141       2      10     92    18  "
      ]
     },
     "execution_count": 53,
     "metadata": {},
     "output_type": "execute_result"
    }
   ],
   "source": [
    "df['issue_datetime'] = pd.to_datetime(df['issue_datetime'])\n",
    "\n",
    "df['date'] = df['issue_datetime'].dt.tz_localize(None).dt.normalize()\n",
    "\n",
    "daily_counts = df.groupby('date').size().reset_index(name='num_violations')\n",
    "\n",
    "daily_counts['year'] = daily_counts['date'].dt.year\n",
    "daily_counts['month'] = daily_counts['date'].dt.month\n",
    "\n",
    "us_holidays = holidays.US(years=daily_counts['year'].dropna().astype(int).unique())\n",
    "holiday_dates = pd.Series(list(us_holidays.keys()), dtype=\"datetime64[ns]\")\n",
    "daily_counts['is_holiday'] = daily_counts['date'].isin(holiday_dates)\n",
    "daily_counts['is_weekend'] = daily_counts['date'].dt.dayofweek >= 5\n",
    "daily_counts['day_of_week'] = daily_counts['date'].dt.day_name()\n",
    "\n",
    "top_agencies = df['issuing_agency_short'].value_counts().head(5).index.tolist()\n",
    "\n",
    "df['agency_group'] = df['issuing_agency_short'].where(df['issuing_agency_short'].isin(top_agencies), 'OTHER')\n",
    "\n",
    "agency_daily = df.groupby(['date', 'agency_group']).size().unstack(fill_value=0).reset_index()\n",
    "\n",
    "daily_counts = daily_counts.merge(agency_daily, on='date', how='left')\n",
    "\n",
    "daily_counts.fillna(0, inplace=True)\n",
    "\n",
    "daily_counts.head()"
   ]
  },
  {
   "cell_type": "code",
   "execution_count": 54,
   "id": "ceed47e4-e388-4c9c-93b1-f0f7e0c593b6",
   "metadata": {},
   "outputs": [
    {
     "name": "stdout",
     "output_type": "stream",
     "text": [
      "2023-01-01 00:00:00 2025-05-31 00:00:00\n",
      "year\n",
      "2024    366\n",
      "2023    335\n",
      "2025    151\n",
      "Name: count, dtype: int64\n"
     ]
    }
   ],
   "source": [
    "print(daily_counts[\"date\"].min(), daily_counts[\"date\"].max())\n",
    "print(daily_counts[\"year\"].value_counts())"
   ]
  },
  {
   "cell_type": "code",
   "execution_count": 55,
   "id": "3d7d06e6-0844-4bc5-aaee-98ecd5f6c72d",
   "metadata": {},
   "outputs": [
    {
     "data": {
      "text/plain": [
       "is_holiday\n",
       "False    825\n",
       "True      27\n",
       "Name: count, dtype: int64"
      ]
     },
     "execution_count": 55,
     "metadata": {},
     "output_type": "execute_result"
    }
   ],
   "source": [
    "daily_counts[\"is_holiday\"].value_counts()"
   ]
  },
  {
   "cell_type": "markdown",
   "id": "a52805ce-e883-4126-aa2f-85fec02f8376",
   "metadata": {},
   "source": [
    "Days with 0 violations"
   ]
  },
  {
   "cell_type": "code",
   "execution_count": 56,
   "id": "38422bb5-8f2e-4a04-a86e-332755b6f200",
   "metadata": {},
   "outputs": [
    {
     "data": {
      "text/html": [
       "<div>\n",
       "<style scoped>\n",
       "    .dataframe tbody tr th:only-of-type {\n",
       "        vertical-align: middle;\n",
       "    }\n",
       "\n",
       "    .dataframe tbody tr th {\n",
       "        vertical-align: top;\n",
       "    }\n",
       "\n",
       "    .dataframe thead th {\n",
       "        text-align: right;\n",
       "    }\n",
       "</style>\n",
       "<table border=\"1\" class=\"dataframe\">\n",
       "  <thead>\n",
       "    <tr style=\"text-align: right;\">\n",
       "      <th></th>\n",
       "      <th>date</th>\n",
       "      <th>num_violations</th>\n",
       "    </tr>\n",
       "  </thead>\n",
       "  <tbody>\n",
       "    <tr>\n",
       "      <th>243</th>\n",
       "      <td>2023-09-01</td>\n",
       "      <td>NaN</td>\n",
       "    </tr>\n",
       "    <tr>\n",
       "      <th>244</th>\n",
       "      <td>2023-09-02</td>\n",
       "      <td>NaN</td>\n",
       "    </tr>\n",
       "    <tr>\n",
       "      <th>245</th>\n",
       "      <td>2023-09-03</td>\n",
       "      <td>NaN</td>\n",
       "    </tr>\n",
       "    <tr>\n",
       "      <th>246</th>\n",
       "      <td>2023-09-04</td>\n",
       "      <td>NaN</td>\n",
       "    </tr>\n",
       "    <tr>\n",
       "      <th>247</th>\n",
       "      <td>2023-09-05</td>\n",
       "      <td>NaN</td>\n",
       "    </tr>\n",
       "  </tbody>\n",
       "</table>\n",
       "</div>"
      ],
      "text/plain": [
       "          date  num_violations\n",
       "243 2023-09-01             NaN\n",
       "244 2023-09-02             NaN\n",
       "245 2023-09-03             NaN\n",
       "246 2023-09-04             NaN\n",
       "247 2023-09-05             NaN"
      ]
     },
     "execution_count": 56,
     "metadata": {},
     "output_type": "execute_result"
    }
   ],
   "source": [
    "full_dates = pd.date_range(start=daily_counts['date'].min(), \n",
    "                           end=daily_counts['date'].max(), \n",
    "                           freq='D')\n",
    "\n",
    "full_dates_df = pd.DataFrame({'date': full_dates})\n",
    "\n",
    "merged = full_dates_df.merge(daily_counts[['date', 'num_violations']], on='date', how='left')\n",
    "\n",
    "zero_violation_days = merged[merged['num_violations'].isna()]\n",
    "\n",
    "zero_violation_days.head()"
   ]
  },
  {
   "cell_type": "code",
   "execution_count": 57,
   "id": "e96850a4-306e-42c2-a9bd-3ea1a72711a5",
   "metadata": {},
   "outputs": [],
   "source": [
    "zero_violation_days.to_csv('Data/days_without_violations.csv', index=False)"
   ]
  },
  {
   "cell_type": "code",
   "execution_count": 58,
   "id": "26b0aeea-ef96-40c8-b260-b6678248a8bb",
   "metadata": {},
   "outputs": [],
   "source": [
    "daily_counts.to_csv('Data/daily_timeseries_parking_violations_v2.csv', index=False)"
   ]
  },
  {
   "cell_type": "code",
   "execution_count": 61,
   "id": "22e96c1a-42e8-45f8-8f15-acc62e6667bb",
   "metadata": {},
   "outputs": [
    {
     "data": {
      "text/plain": [
       "30"
      ]
     },
     "execution_count": 61,
     "metadata": {},
     "output_type": "execute_result"
    }
   ],
   "source": [
    "len(zero_violation_days)"
   ]
  },
  {
   "cell_type": "code",
   "execution_count": null,
   "id": "ffe51f3c-89e8-490b-bde5-55d3bce66013",
   "metadata": {},
   "outputs": [],
   "source": []
  }
 ],
 "metadata": {
  "kernelspec": {
   "display_name": "Python 3 (ipykernel)",
   "language": "python",
   "name": "python3"
  },
  "language_info": {
   "codemirror_mode": {
    "name": "ipython",
    "version": 3
   },
   "file_extension": ".py",
   "mimetype": "text/x-python",
   "name": "python",
   "nbconvert_exporter": "python",
   "pygments_lexer": "ipython3",
   "version": "3.11.8"
  }
 },
 "nbformat": 4,
 "nbformat_minor": 5
}
