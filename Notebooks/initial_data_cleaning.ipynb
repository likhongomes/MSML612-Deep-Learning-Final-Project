{
 "cells": [
  {
   "cell_type": "code",
   "execution_count": null,
   "metadata": {
    "id": "QTw6l4gwka_X"
   },
   "outputs": [],
   "source": [
    "import pandas as pd\n",
    "import glob\n",
    "import os\n",
    "import seaborn as sns\n",
    "import matplotlib.pyplot as plt"
   ]
  },
  {
   "cell_type": "markdown",
   "metadata": {
    "id": "w86mXwgDumqS"
   },
   "source": [
    "Note: Data is from https://opendata.dc.gov/"
   ]
  },
  {
   "cell_type": "code",
   "execution_count": null,
   "metadata": {
    "id": "aZ1FjWAIoB5f"
   },
   "outputs": [],
   "source": [
    "def load_parking_violation_data(data_folder):\n",
    "    files = os.listdir(data_folder)\n",
    "    print(files)\n",
    "    all_csvs = glob.glob(os.path.join(data_folder, \"*.csv\"))\n",
    "    dfs = []\n",
    "    for c in all_csvs:\n",
    "        try:\n",
    "          df = pd.read_csv(c)\n",
    "          dfs.append(df)\n",
    "          print(f\"successfully loaded {c}\")\n",
    "        except Exception as e:\n",
    "          print(f\"error opening {c}: {e}\")\n",
    "    return pd.concat(dfs, ignore_index=True)"
   ]
  },
  {
   "cell_type": "code",
   "execution_count": null,
   "metadata": {},
   "outputs": [],
   "source": [
    "df = load_parking_violation_data(\"../Data/\")"
   ]
  },
  {
   "cell_type": "code",
   "execution_count": null,
   "metadata": {
    "colab": {
     "base_uri": "https://localhost:8080/"
    },
    "id": "ZmaUQJuyphfg",
    "outputId": "bf315f34-b639-47bf-d0fa-92a8201447e6"
   },
   "outputs": [],
   "source": [
    "len(df)"
   ]
  },
  {
   "cell_type": "code",
   "execution_count": null,
   "metadata": {},
   "outputs": [],
   "source": [
    "print(df.count())"
   ]
  },
  {
   "cell_type": "code",
   "execution_count": null,
   "metadata": {
    "colab": {
     "base_uri": "https://localhost:8080/"
    },
    "id": "Q6ADBK54u9qK",
    "outputId": "7a756a68-9f19-4165-ccc3-6a2dd336772a"
   },
   "outputs": [],
   "source": [
    "df.duplicated().sum()"
   ]
  },
  {
   "cell_type": "code",
   "execution_count": null,
   "metadata": {
    "colab": {
     "base_uri": "https://localhost:8080/",
     "height": 1000
    },
    "id": "gp95oXtHqILI",
    "outputId": "b4efc1d4-8972-4a09-a5de-93741f7599e2"
   },
   "outputs": [],
   "source": [
    "df.dtypes\n",
    "df['ISSUE_TIME'] = df['ISSUE_TIME'].astype('int64')"
   ]
  },
  {
   "cell_type": "code",
   "execution_count": null,
   "metadata": {
    "colab": {
     "base_uri": "https://localhost:8080/",
     "height": 424
    },
    "id": "e465uB_JqKHX",
    "outputId": "508e7d99-0336-45ae-f4c4-1ae152b0460f"
   },
   "outputs": [],
   "source": [
    "df.isnull().sum()[df.isnull().sum() > 0]"
   ]
  },
  {
   "cell_type": "code",
   "execution_count": null,
   "metadata": {},
   "outputs": [],
   "source": [
    "df['ISSUE_DATE'] = pd.to_datetime(df['ISSUE_DATE'], errors='coerce')\n",
    "df['ISSUE_DATE'] = df['ISSUE_DATE'].dt.tz_localize(None)"
   ]
  },
  {
   "cell_type": "code",
   "execution_count": null,
   "metadata": {},
   "outputs": [],
   "source": [
    "df['parsed_time'] = pd.to_datetime(df['ISSUE_TIME'].astype(str).str.zfill(4), format='%H%M', errors='coerce')\n",
    "df['hour'] = df['parsed_time'].dt.hour\n",
    "df['minute'] = df['parsed_time'].dt.minute"
   ]
  },
  {
   "cell_type": "code",
   "execution_count": null,
   "metadata": {},
   "outputs": [],
   "source": [
    "df = df[df['ISSUE_DATE'].notna() & df['hour'].notna() & df['minute'].notna()]"
   ]
  },
  {
   "cell_type": "code",
   "execution_count": null,
   "metadata": {},
   "outputs": [],
   "source": [
    "df['issue_datetime'] = df['ISSUE_DATE'].dt.floor('D') \\\n",
    "    + pd.to_timedelta(df['hour'], unit='h') \\\n",
    "    + pd.to_timedelta(df['minute'], unit='m')"
   ]
  },
  {
   "cell_type": "code",
   "execution_count": null,
   "metadata": {},
   "outputs": [],
   "source": [
    "df.drop(columns=['hour', 'minute', 'ISSUE_DATE', 'ISSUE_TIME', 'parsed_time'], inplace=True)"
   ]
  },
  {
   "cell_type": "code",
   "execution_count": null,
   "metadata": {
    "id": "Gk0ZsWtrsU9p"
   },
   "outputs": [],
   "source": [
    "# Almost all of the data is missing these values, so dropping\n",
    "df.drop(columns=[\n",
    "    'VEHICLE_TYPE',\n",
    "    'DISPOSITION_DESC',\n",
    "    'DISPOSITION_DATE'], inplace=True)"
   ]
  },
  {
   "cell_type": "code",
   "execution_count": null,
   "metadata": {
    "id": "M05dEJIBsx72"
   },
   "outputs": [],
   "source": [
    "# New date + time related columns for future use\n",
    "\n",
    "df['year'] = df['issue_datetime'].dt.year\n",
    "df['month'] = df['issue_datetime'].dt.month\n",
    "df['day'] = df['issue_datetime'].dt.day\n",
    "df['day_of_week'] = df['issue_datetime'].dt.day_name()\n",
    "df['hour'] = df['issue_datetime'].dt.hour\n",
    "df['is_weekend'] = df['day_of_week'].isin(['Saturday', 'Sunday'])"
   ]
  },
  {
   "cell_type": "code",
   "execution_count": null,
   "metadata": {
    "id": "rNKHZlE0w0pY"
   },
   "outputs": [],
   "source": [
    "# Filling missing values\n",
    "df['VIOLATION_PROC_DESC'] = df['VIOLATION_PROC_DESC'].fillna(\"UNKNOWN\")"
   ]
  },
  {
   "cell_type": "code",
   "execution_count": null,
   "metadata": {
    "id": "6eZVKS1zyOey"
   },
   "outputs": [],
   "source": [
    "df[''] = df['VIOLATION_TYPE_DESC'].fillna(\"UNKNOWN\")"
   ]
  },
  {
   "cell_type": "code",
   "execution_count": null,
   "metadata": {
    "id": "dJbVOszSxKu9"
   },
   "outputs": [],
   "source": [
    "df.drop(columns=['XCOORD', 'YCOORD', 'MAR_ID'], inplace=True)"
   ]
  },
  {
   "cell_type": "code",
   "execution_count": null,
   "metadata": {
    "colab": {
     "base_uri": "https://localhost:8080/",
     "height": 484
    },
    "id": "IBAfOE9Cyo2C",
    "outputId": "253c28d9-85a8-4b65-beb8-d6e588a14ebe"
   },
   "outputs": [],
   "source": [
    "df['MULTI_OWNER_NUMBER'].value_counts(dropna=False)"
   ]
  },
  {
   "cell_type": "code",
   "execution_count": null,
   "metadata": {
    "id": "RcZfM-QdzC1W"
   },
   "outputs": [],
   "source": [
    "# from the metadata - \"If number exists, this is referring to either a fleet, government, or rental vehicle.\" so probably more valuable to represent as a boolean\n",
    "df['is_fleet_gov_or_rental'] = df['MULTI_OWNER_NUMBER'].notna()\n",
    "df.drop(columns=['MULTI_OWNER_NUMBER'], inplace=True)"
   ]
  },
  {
   "cell_type": "code",
   "execution_count": null,
   "metadata": {
    "id": "BY3fGXr5yVSd"
   },
   "outputs": [],
   "source": [
    "# care about location in DC, so drop violations with null latitude and longitude\n",
    "df = df.dropna(subset=['LATITUDE', 'LONGITUDE'])"
   ]
  },
  {
   "cell_type": "code",
   "execution_count": null,
   "metadata": {
    "colab": {
     "base_uri": "https://localhost:8080/",
     "height": 979
    },
    "id": "aGLjuM9Lz3yh",
    "outputId": "1b9cb737-dfad-4778-e8e1-0516016f53dc"
   },
   "outputs": [],
   "source": [
    "summary = pd.DataFrame({\n",
    "    'dtype': df.dtypes,\n",
    "    'nulls': df.isnull().sum(),\n",
    "    'unique_vals': df.nunique()\n",
    "})\n",
    "summary"
   ]
  },
  {
   "cell_type": "markdown",
   "metadata": {
    "id": "bX6ZBNLN0KCN"
   },
   "source": [
    "### Initial Visualization"
   ]
  },
  {
   "cell_type": "code",
   "execution_count": null,
   "metadata": {
    "colab": {
     "base_uri": "https://localhost:8080/",
     "height": 560
    },
    "id": "V9Le0lZdtlMQ",
    "outputId": "0f55ee9e-af34-494f-ecbd-d37ce9343f8f"
   },
   "outputs": [],
   "source": [
    "df.groupby(df['issue_datetime'].dt.to_period('M')).size().plot(kind='bar', figsize=(14,5))"
   ]
  },
  {
   "cell_type": "code",
   "execution_count": null,
   "metadata": {
    "colab": {
     "base_uri": "https://localhost:8080/",
     "height": 467
    },
    "id": "4jtNbsGguLZ3",
    "outputId": "7ad9e07a-0001-47ab-a82b-4fe483e1f964"
   },
   "outputs": [],
   "source": [
    "sns.countplot(data=df, x='day_of_week', order=[\"Monday\", \"Tuesday\", \"Wednesday\", \"Thursday\", \"Friday\", \"Saturday\", \"Sunday\"])"
   ]
  },
  {
   "cell_type": "code",
   "execution_count": null,
   "metadata": {
    "colab": {
     "base_uri": "https://localhost:8080/",
     "height": 466
    },
    "id": "Fyc9Q_Q1uSZQ",
    "outputId": "21e82f4d-8746-49e9-c0bd-7c78472c1a0b"
   },
   "outputs": [],
   "source": [
    "sns.histplot(df['hour'], bins=24, kde=False)"
   ]
  },
  {
   "cell_type": "code",
   "execution_count": null,
   "metadata": {
    "colab": {
     "base_uri": "https://localhost:8080/",
     "height": 607
    },
    "id": "B-rXwvBa1iCR",
    "outputId": "2c55a415-59fd-4987-cf4d-c35d3f5c95db"
   },
   "outputs": [],
   "source": [
    "agency_counts = df['ISSUING_AGENCY_NAME'].value_counts()\n",
    "top_agencies = agency_counts.head(3)\n",
    "\n",
    "plt.figure(figsize=(10,6))\n",
    "sns.barplot(x=top_agencies.index, y=top_agencies.values)\n",
    "\n",
    "plt.title(\"Tickets Issued by Agency\")\n",
    "plt.xlabel(\"Issuing Agency\")\n",
    "plt.ylabel(\"Number of Tickets\")\n",
    "plt.tight_layout()\n",
    "plt.show()"
   ]
  },
  {
   "cell_type": "code",
   "execution_count": null,
   "metadata": {
    "id": "AZsNAJIk0Lo5"
   },
   "outputs": [],
   "source": [
    "df.columns = df.columns.str.lower()"
   ]
  },
  {
   "cell_type": "code",
   "execution_count": null,
   "metadata": {
    "id": "reGdHNtJ1XCu"
   },
   "outputs": [],
   "source": [
    "df.head()"
   ]
  },
  {
   "cell_type": "code",
   "execution_count": null,
   "metadata": {},
   "outputs": [],
   "source": [
    "df[df['issue_datetime'].isna()]"
   ]
  },
  {
   "cell_type": "code",
   "execution_count": null,
   "metadata": {
    "id": "gLF_uuVo1Xi8"
   },
   "outputs": [],
   "source": [
    "df.to_csv('../CleanData/cleaned_parking_violations_v2.csv', index=False)"
   ]
  },
  {
   "cell_type": "code",
   "execution_count": null,
   "metadata": {
    "id": "8NiTfeywnNXQ"
   },
   "outputs": [],
   "source": []
  }
 ],
 "metadata": {
  "colab": {
   "provenance": []
  },
  "kernelspec": {
   "display_name": "Python 3 (ipykernel)",
   "language": "python",
   "name": "python3"
  },
  "language_info": {
   "codemirror_mode": {
    "name": "ipython",
    "version": 3
   },
   "file_extension": ".py",
   "mimetype": "text/x-python",
   "name": "python",
   "nbconvert_exporter": "python",
   "pygments_lexer": "ipython3",
   "version": "3.12.2"
  }
 },
 "nbformat": 4,
 "nbformat_minor": 4
}
