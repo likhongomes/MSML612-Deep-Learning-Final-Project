{
 "cells": [
  {
   "cell_type": "code",
   "execution_count": 1,
   "metadata": {
    "id": "QTw6l4gwka_X"
   },
   "outputs": [],
   "source": [
    "import pandas as pd\n",
    "import glob\n",
    "import os\n",
    "import seaborn as sns\n",
    "import matplotlib.pyplot as plt"
   ]
  },
  {
   "cell_type": "markdown",
   "metadata": {
    "id": "w86mXwgDumqS"
   },
   "source": [
    "Note: Data is from https://opendata.dc.gov/ and the dataset from September 2023 is missing\n",
    "Metadata: https://www.arcgis.com/sharing/rest/content/items/17d73d958f8247e19a4885a4d8bce9dd/info/metadata/metadata.xml?format=default&output=html"
   ]
  },
  {
   "cell_type": "code",
   "execution_count": 14,
   "metadata": {
    "id": "aZ1FjWAIoB5f"
   },
   "outputs": [],
   "source": [
    "def load_parking_violation_data(data_folder):\n",
    "    files = os.listdir(data_folder)\n",
    "    print(files)\n",
    "    all_csvs = glob.glob(os.path.join(data_folder, \"*.csv\"))\n",
    "    dfs = []\n",
    "    for c in all_csvs:\n",
    "        try:\n",
    "          df = pd.read_csv(c)\n",
    "          dfs.append(df)\n",
    "          print(f\"successfully loaded {c}\")\n",
    "        except Exception as e:\n",
    "          print(f\"error opening {c}: {e}\")\n",
    "    return pd.concat(dfs, ignore_index=True)"
   ]
  },
  {
   "cell_type": "code",
   "execution_count": 15,
   "metadata": {
    "colab": {
     "base_uri": "https://localhost:8080/"
    },
    "id": "JsFDaETspQ6u",
    "outputId": "aa6cd209-5953-4dac-970c-a27012f34c00"
   },
   "outputs": [
    {
     "name": "stdout",
     "output_type": "stream",
     "text": [
      "['Parking_Violations_Issued_in_June_2025.csv', 'Parking_Violations_Issued_in_November_2024.csv', 'Parking_Violations_Issued_in_July_2024.csv', '.DS_Store', 'Parking_Violations_Issued_in_January_2025.csv', 'Parking_Violations_Issued_in_October_2024.csv', 'Parking_Violations_Issued_in_March_2025.csv', 'Parking_Violations_Issued_in_December_2024.csv', 'Parking_Violations_Issued_in_April_2025.csv', 'Parking_Violations_Violations_Issued_in_May_2025.csv', 'Parking_Violations_Issued_in_February_2025.csv', 'Parking_Violations_Issued_in_August_2024.csv', 'Parking_Violations_Issued_in_September_2024.csv']\n",
      "successfully loaded ../Data/Parking_Violations_Issued_in_June_2025.csv\n",
      "successfully loaded ../Data/Parking_Violations_Issued_in_November_2024.csv\n",
      "successfully loaded ../Data/Parking_Violations_Issued_in_July_2024.csv\n",
      "successfully loaded ../Data/Parking_Violations_Issued_in_January_2025.csv\n",
      "successfully loaded ../Data/Parking_Violations_Issued_in_October_2024.csv\n",
      "successfully loaded ../Data/Parking_Violations_Issued_in_March_2025.csv\n",
      "successfully loaded ../Data/Parking_Violations_Issued_in_December_2024.csv\n",
      "successfully loaded ../Data/Parking_Violations_Issued_in_April_2025.csv\n",
      "successfully loaded ../Data/Parking_Violations_Violations_Issued_in_May_2025.csv\n",
      "successfully loaded ../Data/Parking_Violations_Issued_in_February_2025.csv\n",
      "successfully loaded ../Data/Parking_Violations_Issued_in_August_2024.csv\n",
      "successfully loaded ../Data/Parking_Violations_Issued_in_September_2024.csv\n"
     ]
    },
    {
     "name": "stderr",
     "output_type": "stream",
     "text": [
      "/var/folders/5n/jjx2myys12g9lmz1yqf0txth0000gn/T/ipykernel_54846/2234199005.py:8: DtypeWarning: Columns (16,17) have mixed types. Specify dtype option on import or set low_memory=False.\n",
      "  df = pd.read_csv(c)\n"
     ]
    }
   ],
   "source": [
    "df = load_parking_violation_data(\"../Data\")"
   ]
  },
  {
   "cell_type": "code",
   "execution_count": 16,
   "metadata": {
    "colab": {
     "base_uri": "https://localhost:8080/"
    },
    "id": "ZmaUQJuyphfg",
    "outputId": "bf315f34-b639-47bf-d0fa-92a8201447e6"
   },
   "outputs": [
    {
     "data": {
      "text/plain": [
       "1103816"
      ]
     },
     "execution_count": 16,
     "metadata": {},
     "output_type": "execute_result"
    }
   ],
   "source": [
    "len(df)"
   ]
  },
  {
   "cell_type": "code",
   "execution_count": 17,
   "metadata": {
    "colab": {
     "base_uri": "https://localhost:8080/"
    },
    "id": "Q6ADBK54u9qK",
    "outputId": "7a756a68-9f19-4165-ccc3-6a2dd336772a"
   },
   "outputs": [
    {
     "data": {
      "text/plain": [
       "np.int64(0)"
      ]
     },
     "execution_count": 17,
     "metadata": {},
     "output_type": "execute_result"
    }
   ],
   "source": [
    "df.duplicated().sum()"
   ]
  },
  {
   "cell_type": "code",
   "execution_count": 18,
   "metadata": {
    "colab": {
     "base_uri": "https://localhost:8080/",
     "height": 1000
    },
    "id": "gp95oXtHqILI",
    "outputId": "b4efc1d4-8972-4a09-a5de-93741f7599e2"
   },
   "outputs": [
    {
     "data": {
      "text/plain": [
       "OBJECTID                  int64\n",
       "TICKET_NUMBER             int64\n",
       "ISSUE_DATE               object\n",
       "ISSUE_TIME                int64\n",
       "ISSUING_AGENCY_CODE       int64\n",
       "ISSUING_AGENCY_NAME      object\n",
       "ISSUING_AGENCY_SHORT     object\n",
       "VIOLATION_CODE           object\n",
       "LOCATION                 object\n",
       "PLATE_STATE              object\n",
       "DISPOSITION_CODE          int64\n",
       "DISPOSITION_TYPE         object\n",
       "DISPOSITION_DATE         object\n",
       "FINE_AMOUNT               int64\n",
       "TOTAL_PAID                int64\n",
       "PENALTY_1                 int64\n",
       "PENALTY_2                 int64\n",
       "PENALTY_3                 int64\n",
       "PENALTY_4                 int64\n",
       "PENALTY_5                 int64\n",
       "XCOORD                  float64\n",
       "YCOORD                  float64\n",
       "LATITUDE                float64\n",
       "LONGITUDE               float64\n",
       "MAR_ID                  float64\n",
       "GIS_LAST_MOD_DTTM        object\n",
       "VIOLATION_PROC_DESC      object\n",
       "VEHICLE_TYPE            float64\n",
       "MULTI_OWNER_NUMBER        int64\n",
       "DISPOSITION_DESC         object\n",
       "VIOLATION_TYPE_DESC      object\n",
       "dtype: object"
      ]
     },
     "execution_count": 18,
     "metadata": {},
     "output_type": "execute_result"
    }
   ],
   "source": [
    "df.dtypes"
   ]
  },
  {
   "cell_type": "code",
   "execution_count": 19,
   "metadata": {
    "colab": {
     "base_uri": "https://localhost:8080/",
     "height": 424
    },
    "id": "e465uB_JqKHX",
    "outputId": "508e7d99-0336-45ae-f4c4-1ae152b0460f"
   },
   "outputs": [
    {
     "data": {
      "text/plain": [
       "DISPOSITION_DATE       1065200\n",
       "XCOORD                    9516\n",
       "YCOORD                    9516\n",
       "LATITUDE                  9516\n",
       "LONGITUDE                 9516\n",
       "MAR_ID                    9516\n",
       "VIOLATION_PROC_DESC        171\n",
       "VEHICLE_TYPE           1103816\n",
       "DISPOSITION_DESC       1065206\n",
       "VIOLATION_TYPE_DESC     528578\n",
       "dtype: int64"
      ]
     },
     "execution_count": 19,
     "metadata": {},
     "output_type": "execute_result"
    }
   ],
   "source": [
    "df.isnull().sum()[df.isnull().sum() > 0]"
   ]
  },
  {
   "cell_type": "code",
   "execution_count": 20,
   "metadata": {},
   "outputs": [],
   "source": [
    "df['ISSUE_DATE'] = pd.to_datetime(df['ISSUE_DATE'], errors='coerce')\n",
    "df['ISSUE_DATE'] = df['ISSUE_DATE'].dt.tz_localize(None)"
   ]
  },
  {
   "cell_type": "code",
   "execution_count": 21,
   "metadata": {},
   "outputs": [],
   "source": [
    "df['parsed_time'] = pd.to_datetime(df['ISSUE_TIME'].astype(str).str.zfill(4), format='%H%M', errors='coerce')\n",
    "df['hour'] = df['parsed_time'].dt.hour\n",
    "df['minute'] = df['parsed_time'].dt.minute"
   ]
  },
  {
   "cell_type": "code",
   "execution_count": 22,
   "metadata": {},
   "outputs": [],
   "source": [
    "df = df[df['ISSUE_DATE'].notna() & df['hour'].notna() & df['minute'].notna()]"
   ]
  },
  {
   "cell_type": "code",
   "execution_count": 23,
   "metadata": {},
   "outputs": [],
   "source": [
    "df['issue_datetime'] = df['ISSUE_DATE'].dt.floor('D') \\\n",
    "    + pd.to_timedelta(df['hour'], unit='h') \\\n",
    "    + pd.to_timedelta(df['minute'], unit='m')"
   ]
  },
  {
   "cell_type": "code",
   "execution_count": 24,
   "metadata": {},
   "outputs": [],
   "source": [
    "df.drop(columns=['hour', 'minute', 'ISSUE_DATE', 'ISSUE_TIME', 'parsed_time'], inplace=True)"
   ]
  },
  {
   "cell_type": "code",
   "execution_count": 25,
   "metadata": {
    "id": "Gk0ZsWtrsU9p"
   },
   "outputs": [],
   "source": [
    "# Almost all of the data is missing these values, so dropping\n",
    "df.drop(columns=[\n",
    "    'VEHICLE_TYPE',\n",
    "    'DISPOSITION_DESC',\n",
    "    'DISPOSITION_DATE'], inplace=True)"
   ]
  },
  {
   "cell_type": "code",
   "execution_count": 26,
   "metadata": {
    "id": "M05dEJIBsx72"
   },
   "outputs": [],
   "source": [
    "# New date + time related columns for future use\n",
    "\n",
    "df['year'] = df['issue_datetime'].dt.year\n",
    "df['month'] = df['issue_datetime'].dt.month\n",
    "df['day'] = df['issue_datetime'].dt.day\n",
    "df['day_of_week'] = df['issue_datetime'].dt.day_name()\n",
    "df['hour'] = df['issue_datetime'].dt.hour\n",
    "df['is_weekend'] = df['day_of_week'].isin(['Saturday', 'Sunday'])"
   ]
  },
  {
   "cell_type": "code",
   "execution_count": 27,
   "metadata": {
    "id": "rNKHZlE0w0pY"
   },
   "outputs": [],
   "source": [
    "# Filling missing values\n",
    "df['VIOLATION_PROC_DESC'] = df['VIOLATION_PROC_DESC'].fillna(\"UNKNOWN\")"
   ]
  },
  {
   "cell_type": "code",
   "execution_count": 28,
   "metadata": {
    "id": "6eZVKS1zyOey"
   },
   "outputs": [],
   "source": [
    "df[''] = df['VIOLATION_TYPE_DESC'].fillna(\"UNKNOWN\")"
   ]
  },
  {
   "cell_type": "code",
   "execution_count": 29,
   "metadata": {
    "id": "dJbVOszSxKu9"
   },
   "outputs": [],
   "source": [
    "df.drop(columns=['XCOORD', 'YCOORD', 'MAR_ID'], inplace=True)"
   ]
  },
  {
   "cell_type": "code",
   "execution_count": 30,
   "metadata": {
    "colab": {
     "base_uri": "https://localhost:8080/",
     "height": 484
    },
    "id": "IBAfOE9Cyo2C",
    "outputId": "253c28d9-85a8-4b65-beb8-d6e588a14ebe"
   },
   "outputs": [
    {
     "data": {
      "text/plain": [
       "MULTI_OWNER_NUMBER\n",
       "0            1046009\n",
       "20714000        4023\n",
       "20719000         678\n",
       "10629000         478\n",
       "20811000         468\n",
       "              ...   \n",
       "950625415          1\n",
       "950721667          1\n",
       "950569011          1\n",
       "950646151          1\n",
       "950713479          1\n",
       "Name: count, Length: 18247, dtype: int64"
      ]
     },
     "execution_count": 30,
     "metadata": {},
     "output_type": "execute_result"
    }
   ],
   "source": [
    "df['MULTI_OWNER_NUMBER'].value_counts(dropna=False)"
   ]
  },
  {
   "cell_type": "code",
   "execution_count": 31,
   "metadata": {
    "id": "RcZfM-QdzC1W"
   },
   "outputs": [],
   "source": [
    "# from the metadata - \"If number exists, this is referring to either a fleet, government, or rental vehicle.\" so probably more valuable to represent as a boolean\n",
    "df['is_fleet_gov_or_rental'] = df['MULTI_OWNER_NUMBER'].notna()\n",
    "df.drop(columns=['MULTI_OWNER_NUMBER'], inplace=True)"
   ]
  },
  {
   "cell_type": "code",
   "execution_count": 32,
   "metadata": {
    "id": "BY3fGXr5yVSd"
   },
   "outputs": [],
   "source": [
    "# care about location in DC, so drop violations with null latitude and longitude\n",
    "df = df.dropna(subset=['LATITUDE', 'LONGITUDE'])"
   ]
  },
  {
   "cell_type": "code",
   "execution_count": 33,
   "metadata": {
    "colab": {
     "base_uri": "https://localhost:8080/",
     "height": 979
    },
    "id": "aGLjuM9Lz3yh",
    "outputId": "1b9cb737-dfad-4778-e8e1-0516016f53dc"
   },
   "outputs": [
    {
     "data": {
      "text/html": [
       "<div>\n",
       "<style scoped>\n",
       "    .dataframe tbody tr th:only-of-type {\n",
       "        vertical-align: middle;\n",
       "    }\n",
       "\n",
       "    .dataframe tbody tr th {\n",
       "        vertical-align: top;\n",
       "    }\n",
       "\n",
       "    .dataframe thead th {\n",
       "        text-align: right;\n",
       "    }\n",
       "</style>\n",
       "<table border=\"1\" class=\"dataframe\">\n",
       "  <thead>\n",
       "    <tr style=\"text-align: right;\">\n",
       "      <th></th>\n",
       "      <th>dtype</th>\n",
       "      <th>nulls</th>\n",
       "      <th>unique_vals</th>\n",
       "    </tr>\n",
       "  </thead>\n",
       "  <tbody>\n",
       "    <tr>\n",
       "      <th>OBJECTID</th>\n",
       "      <td>int64</td>\n",
       "      <td>0</td>\n",
       "      <td>1094297</td>\n",
       "    </tr>\n",
       "    <tr>\n",
       "      <th>TICKET_NUMBER</th>\n",
       "      <td>int64</td>\n",
       "      <td>0</td>\n",
       "      <td>1094297</td>\n",
       "    </tr>\n",
       "    <tr>\n",
       "      <th>ISSUING_AGENCY_CODE</th>\n",
       "      <td>int64</td>\n",
       "      <td>0</td>\n",
       "      <td>40</td>\n",
       "    </tr>\n",
       "    <tr>\n",
       "      <th>ISSUING_AGENCY_NAME</th>\n",
       "      <td>object</td>\n",
       "      <td>0</td>\n",
       "      <td>40</td>\n",
       "    </tr>\n",
       "    <tr>\n",
       "      <th>ISSUING_AGENCY_SHORT</th>\n",
       "      <td>object</td>\n",
       "      <td>0</td>\n",
       "      <td>40</td>\n",
       "    </tr>\n",
       "    <tr>\n",
       "      <th>VIOLATION_CODE</th>\n",
       "      <td>object</td>\n",
       "      <td>0</td>\n",
       "      <td>217</td>\n",
       "    </tr>\n",
       "    <tr>\n",
       "      <th>LOCATION</th>\n",
       "      <td>object</td>\n",
       "      <td>0</td>\n",
       "      <td>49415</td>\n",
       "    </tr>\n",
       "    <tr>\n",
       "      <th>PLATE_STATE</th>\n",
       "      <td>object</td>\n",
       "      <td>0</td>\n",
       "      <td>42</td>\n",
       "    </tr>\n",
       "    <tr>\n",
       "      <th>DISPOSITION_CODE</th>\n",
       "      <td>int64</td>\n",
       "      <td>0</td>\n",
       "      <td>54</td>\n",
       "    </tr>\n",
       "    <tr>\n",
       "      <th>DISPOSITION_TYPE</th>\n",
       "      <td>object</td>\n",
       "      <td>0</td>\n",
       "      <td>7</td>\n",
       "    </tr>\n",
       "    <tr>\n",
       "      <th>FINE_AMOUNT</th>\n",
       "      <td>int64</td>\n",
       "      <td>0</td>\n",
       "      <td>29</td>\n",
       "    </tr>\n",
       "    <tr>\n",
       "      <th>TOTAL_PAID</th>\n",
       "      <td>int64</td>\n",
       "      <td>0</td>\n",
       "      <td>41</td>\n",
       "    </tr>\n",
       "    <tr>\n",
       "      <th>PENALTY_1</th>\n",
       "      <td>int64</td>\n",
       "      <td>0</td>\n",
       "      <td>24</td>\n",
       "    </tr>\n",
       "    <tr>\n",
       "      <th>PENALTY_2</th>\n",
       "      <td>int64</td>\n",
       "      <td>0</td>\n",
       "      <td>1</td>\n",
       "    </tr>\n",
       "    <tr>\n",
       "      <th>PENALTY_3</th>\n",
       "      <td>int64</td>\n",
       "      <td>0</td>\n",
       "      <td>1</td>\n",
       "    </tr>\n",
       "    <tr>\n",
       "      <th>PENALTY_4</th>\n",
       "      <td>int64</td>\n",
       "      <td>0</td>\n",
       "      <td>2</td>\n",
       "    </tr>\n",
       "    <tr>\n",
       "      <th>PENALTY_5</th>\n",
       "      <td>int64</td>\n",
       "      <td>0</td>\n",
       "      <td>1</td>\n",
       "    </tr>\n",
       "    <tr>\n",
       "      <th>LATITUDE</th>\n",
       "      <td>float64</td>\n",
       "      <td>0</td>\n",
       "      <td>176</td>\n",
       "    </tr>\n",
       "    <tr>\n",
       "      <th>LONGITUDE</th>\n",
       "      <td>float64</td>\n",
       "      <td>0</td>\n",
       "      <td>203</td>\n",
       "    </tr>\n",
       "    <tr>\n",
       "      <th>GIS_LAST_MOD_DTTM</th>\n",
       "      <td>object</td>\n",
       "      <td>0</td>\n",
       "      <td>634</td>\n",
       "    </tr>\n",
       "    <tr>\n",
       "      <th>VIOLATION_PROC_DESC</th>\n",
       "      <td>object</td>\n",
       "      <td>0</td>\n",
       "      <td>208</td>\n",
       "    </tr>\n",
       "    <tr>\n",
       "      <th>VIOLATION_TYPE_DESC</th>\n",
       "      <td>object</td>\n",
       "      <td>524186</td>\n",
       "      <td>5</td>\n",
       "    </tr>\n",
       "    <tr>\n",
       "      <th>issue_datetime</th>\n",
       "      <td>datetime64[ns]</td>\n",
       "      <td>0</td>\n",
       "      <td>322889</td>\n",
       "    </tr>\n",
       "    <tr>\n",
       "      <th>year</th>\n",
       "      <td>int32</td>\n",
       "      <td>0</td>\n",
       "      <td>2</td>\n",
       "    </tr>\n",
       "    <tr>\n",
       "      <th>month</th>\n",
       "      <td>int32</td>\n",
       "      <td>0</td>\n",
       "      <td>12</td>\n",
       "    </tr>\n",
       "    <tr>\n",
       "      <th>day</th>\n",
       "      <td>int32</td>\n",
       "      <td>0</td>\n",
       "      <td>31</td>\n",
       "    </tr>\n",
       "    <tr>\n",
       "      <th>day_of_week</th>\n",
       "      <td>object</td>\n",
       "      <td>0</td>\n",
       "      <td>7</td>\n",
       "    </tr>\n",
       "    <tr>\n",
       "      <th>hour</th>\n",
       "      <td>int32</td>\n",
       "      <td>0</td>\n",
       "      <td>24</td>\n",
       "    </tr>\n",
       "    <tr>\n",
       "      <th>is_weekend</th>\n",
       "      <td>bool</td>\n",
       "      <td>0</td>\n",
       "      <td>2</td>\n",
       "    </tr>\n",
       "    <tr>\n",
       "      <th></th>\n",
       "      <td>object</td>\n",
       "      <td>0</td>\n",
       "      <td>6</td>\n",
       "    </tr>\n",
       "    <tr>\n",
       "      <th>is_fleet_gov_or_rental</th>\n",
       "      <td>bool</td>\n",
       "      <td>0</td>\n",
       "      <td>1</td>\n",
       "    </tr>\n",
       "  </tbody>\n",
       "</table>\n",
       "</div>"
      ],
      "text/plain": [
       "                                 dtype   nulls  unique_vals\n",
       "OBJECTID                         int64       0      1094297\n",
       "TICKET_NUMBER                    int64       0      1094297\n",
       "ISSUING_AGENCY_CODE              int64       0           40\n",
       "ISSUING_AGENCY_NAME             object       0           40\n",
       "ISSUING_AGENCY_SHORT            object       0           40\n",
       "VIOLATION_CODE                  object       0          217\n",
       "LOCATION                        object       0        49415\n",
       "PLATE_STATE                     object       0           42\n",
       "DISPOSITION_CODE                 int64       0           54\n",
       "DISPOSITION_TYPE                object       0            7\n",
       "FINE_AMOUNT                      int64       0           29\n",
       "TOTAL_PAID                       int64       0           41\n",
       "PENALTY_1                        int64       0           24\n",
       "PENALTY_2                        int64       0            1\n",
       "PENALTY_3                        int64       0            1\n",
       "PENALTY_4                        int64       0            2\n",
       "PENALTY_5                        int64       0            1\n",
       "LATITUDE                       float64       0          176\n",
       "LONGITUDE                      float64       0          203\n",
       "GIS_LAST_MOD_DTTM               object       0          634\n",
       "VIOLATION_PROC_DESC             object       0          208\n",
       "VIOLATION_TYPE_DESC             object  524186            5\n",
       "issue_datetime          datetime64[ns]       0       322889\n",
       "year                             int32       0            2\n",
       "month                            int32       0           12\n",
       "day                              int32       0           31\n",
       "day_of_week                     object       0            7\n",
       "hour                             int32       0           24\n",
       "is_weekend                        bool       0            2\n",
       "                                object       0            6\n",
       "is_fleet_gov_or_rental            bool       0            1"
      ]
     },
     "execution_count": 33,
     "metadata": {},
     "output_type": "execute_result"
    }
   ],
   "source": [
    "summary = pd.DataFrame({\n",
    "    'dtype': df.dtypes,\n",
    "    'nulls': df.isnull().sum(),\n",
    "    'unique_vals': df.nunique()\n",
    "})\n",
    "summary"
   ]
  },
  {
   "cell_type": "markdown",
   "metadata": {
    "id": "bX6ZBNLN0KCN"
   },
   "source": [
    "### Initial Visualization"
   ]
  },
  {
   "cell_type": "code",
   "execution_count": 34,
   "metadata": {
    "colab": {
     "base_uri": "https://localhost:8080/",
     "height": 560
    },
    "id": "V9Le0lZdtlMQ",
    "outputId": "0f55ee9e-af34-494f-ecbd-d37ce9343f8f"
   },
   "outputs": [
    {
     "data": {
      "text/plain": [
       "<Axes: xlabel='issue_datetime'>"
      ]
     },
     "execution_count": 34,
     "metadata": {},
     "output_type": "execute_result"
    },
    {
     "data": {
      "image/png": "[encoded data removed]",
      "text/plain": [
       "<Figure size 1400x500 with 1 Axes>"
      ]
     },
     "metadata": {},
     "output_type": "display_data"
    }
   ],
   "source": [
    "df.groupby(df['issue_datetime'].dt.to_period('M')).size().plot(kind='bar', figsize=(14,5))"
   ]
  },
  {
   "cell_type": "code",
   "execution_count": 35,
   "metadata": {
    "colab": {
     "base_uri": "https://localhost:8080/",
     "height": 467
    },
    "id": "4jtNbsGguLZ3",
    "outputId": "7ad9e07a-0001-47ab-a82b-4fe483e1f964"
   },
   "outputs": [
    {
     "data": {
      "text/plain": [
       "<Axes: xlabel='day_of_week', ylabel='count'>"
      ]
     },
     "execution_count": 35,
     "metadata": {},
     "output_type": "execute_result"
    },
    {
     "data": {
      "image/png": "[encoded data removed]",
      "text/plain": [
       "<Figure size 640x480 with 1 Axes>"
      ]
     },
     "metadata": {},
     "output_type": "display_data"
    }
   ],
   "source": [
    "sns.countplot(data=df, x='day_of_week', order=[\"Monday\", \"Tuesday\", \"Wednesday\", \"Thursday\", \"Friday\", \"Saturday\", \"Sunday\"])"
   ]
  },
  {
   "cell_type": "code",
   "execution_count": 36,
   "metadata": {
    "colab": {
     "base_uri": "https://localhost:8080/",
     "height": 466
    },
    "id": "Fyc9Q_Q1uSZQ",
    "outputId": "21e82f4d-8746-49e9-c0bd-7c78472c1a0b"
   },
   "outputs": [
    {
     "data": {
      "text/plain": [
       "<Axes: xlabel='hour', ylabel='Count'>"
      ]
     },
     "execution_count": 36,
     "metadata": {},
     "output_type": "execute_result"
    },
    {
     "data": {
      "image/png": "[encoded data removed]",
      "text/plain": [
       "<Figure size 640x480 with 1 Axes>"
      ]
     },
     "metadata": {},
     "output_type": "display_data"
    }
   ],
   "source": [
    "sns.histplot(df['hour'], bins=24, kde=False)"
   ]
  },
  {
   "cell_type": "code",
   "execution_count": 38,
   "metadata": {
    "colab": {
     "base_uri": "https://localhost:8080/",
     "height": 607
    },
    "id": "B-rXwvBa1iCR",
    "outputId": "2c55a415-59fd-4987-cf4d-c35d3f5c95db"
   },
   "outputs": [
    {
     "data": {
      "image/png": "[encoded data removed]",
      "text/plain": [
       "<Figure size 1000x600 with 1 Axes>"
      ]
     },
     "metadata": {},
     "output_type": "display_data"
    }
   ],
   "source": [
    "agency_counts = df['ISSUING_AGENCY_NAME'].value_counts()\n",
    "top_agencies = agency_counts.head(3)\n",
    "\n",
    "plt.figure(figsize=(10,6))\n",
    "sns.barplot(x=top_agencies.index, y=top_agencies.values)\n",
    "\n",
    "plt.title(\"Tickets Issued by Agency\")\n",
    "plt.xlabel(\"Issuing Agency\")\n",
    "plt.ylabel(\"Number of Tickets\")\n",
    "plt.tight_layout()\n",
    "plt.show()"
   ]
  },
  {
   "cell_type": "code",
   "execution_count": 39,
   "metadata": {
    "id": "AZsNAJIk0Lo5"
   },
   "outputs": [],
   "source": [
    "df.columns = df.columns.str.lower()"
   ]
  },
  {
   "cell_type": "code",
   "execution_count": 40,
   "metadata": {
    "id": "reGdHNtJ1XCu"
   },
   "outputs": [
    {
     "data": {
      "text/html": [
       "<div>\n",
       "<style scoped>\n",
       "    .dataframe tbody tr th:only-of-type {\n",
       "        vertical-align: middle;\n",
       "    }\n",
       "\n",
       "    .dataframe tbody tr th {\n",
       "        vertical-align: top;\n",
       "    }\n",
       "\n",
       "    .dataframe thead th {\n",
       "        text-align: right;\n",
       "    }\n",
       "</style>\n",
       "<table border=\"1\" class=\"dataframe\">\n",
       "  <thead>\n",
       "    <tr style=\"text-align: right;\">\n",
       "      <th></th>\n",
       "      <th>objectid</th>\n",
       "      <th>ticket_number</th>\n",
       "      <th>issuing_agency_code</th>\n",
       "      <th>issuing_agency_name</th>\n",
       "      <th>issuing_agency_short</th>\n",
       "      <th>violation_code</th>\n",
       "      <th>location</th>\n",
       "      <th>plate_state</th>\n",
       "      <th>disposition_code</th>\n",
       "      <th>disposition_type</th>\n",
       "      <th>...</th>\n",
       "      <th>violation_type_desc</th>\n",
       "      <th>issue_datetime</th>\n",
       "      <th>year</th>\n",
       "      <th>month</th>\n",
       "      <th>day</th>\n",
       "      <th>day_of_week</th>\n",
       "      <th>hour</th>\n",
       "      <th>is_weekend</th>\n",
       "      <th></th>\n",
       "      <th>is_fleet_gov_or_rental</th>\n",
       "    </tr>\n",
       "  </thead>\n",
       "  <tbody>\n",
       "    <tr>\n",
       "      <th>30</th>\n",
       "      <td>84395696</td>\n",
       "      <td>275257905</td>\n",
       "      <td>50</td>\n",
       "      <td>FEDERAL PROTECTIVE SERVICES (US GV)</td>\n",
       "      <td>FPS</td>\n",
       "      <td>P055</td>\n",
       "      <td>SIDE 1201 CONSTITUTION AVE NW</td>\n",
       "      <td></td>\n",
       "      <td>134</td>\n",
       "      <td>Dismissed</td>\n",
       "      <td>...</td>\n",
       "      <td>NaN</td>\n",
       "      <td>2025-06-17 12:28:00</td>\n",
       "      <td>2025</td>\n",
       "      <td>6</td>\n",
       "      <td>17</td>\n",
       "      <td>Tuesday</td>\n",
       "      <td>12</td>\n",
       "      <td>False</td>\n",
       "      <td>UNKNOWN</td>\n",
       "      <td>True</td>\n",
       "    </tr>\n",
       "    <tr>\n",
       "      <th>32</th>\n",
       "      <td>84395698</td>\n",
       "      <td>275697181</td>\n",
       "      <td>4</td>\n",
       "      <td>METROPOLITAN POLICE DPT-DISTRICT 4</td>\n",
       "      <td>MPD-4D</td>\n",
       "      <td>P170</td>\n",
       "      <td>600 BLK OTIS PL NW</td>\n",
       "      <td></td>\n",
       "      <td>0</td>\n",
       "      <td>Other</td>\n",
       "      <td>...</td>\n",
       "      <td>NaN</td>\n",
       "      <td>2025-06-20 23:38:00</td>\n",
       "      <td>2025</td>\n",
       "      <td>6</td>\n",
       "      <td>20</td>\n",
       "      <td>Friday</td>\n",
       "      <td>23</td>\n",
       "      <td>False</td>\n",
       "      <td>UNKNOWN</td>\n",
       "      <td>True</td>\n",
       "    </tr>\n",
       "    <tr>\n",
       "      <th>33</th>\n",
       "      <td>84395699</td>\n",
       "      <td>275697203</td>\n",
       "      <td>4</td>\n",
       "      <td>METROPOLITAN POLICE DPT-DISTRICT 4</td>\n",
       "      <td>MPD-4D</td>\n",
       "      <td>P170</td>\n",
       "      <td>600 BLK OTIS PL NW</td>\n",
       "      <td></td>\n",
       "      <td>0</td>\n",
       "      <td>Other</td>\n",
       "      <td>...</td>\n",
       "      <td>NaN</td>\n",
       "      <td>2025-06-20 23:54:00</td>\n",
       "      <td>2025</td>\n",
       "      <td>6</td>\n",
       "      <td>20</td>\n",
       "      <td>Friday</td>\n",
       "      <td>23</td>\n",
       "      <td>False</td>\n",
       "      <td>UNKNOWN</td>\n",
       "      <td>True</td>\n",
       "    </tr>\n",
       "    <tr>\n",
       "      <th>34</th>\n",
       "      <td>84395717</td>\n",
       "      <td>276503242</td>\n",
       "      <td>50</td>\n",
       "      <td>FEDERAL PROTECTIVE SERVICES (US GV)</td>\n",
       "      <td>FPS</td>\n",
       "      <td>P269</td>\n",
       "      <td>NS 600 BLK MARYLAND AVE SW</td>\n",
       "      <td></td>\n",
       "      <td>0</td>\n",
       "      <td>Other</td>\n",
       "      <td>...</td>\n",
       "      <td>NaN</td>\n",
       "      <td>2025-06-04 07:45:00</td>\n",
       "      <td>2025</td>\n",
       "      <td>6</td>\n",
       "      <td>4</td>\n",
       "      <td>Wednesday</td>\n",
       "      <td>7</td>\n",
       "      <td>False</td>\n",
       "      <td>UNKNOWN</td>\n",
       "      <td>True</td>\n",
       "    </tr>\n",
       "    <tr>\n",
       "      <th>35</th>\n",
       "      <td>84395718</td>\n",
       "      <td>276503253</td>\n",
       "      <td>50</td>\n",
       "      <td>FEDERAL PROTECTIVE SERVICES (US GV)</td>\n",
       "      <td>FPS</td>\n",
       "      <td>P168</td>\n",
       "      <td>NS 600 BLK MARYLAND AVE SW</td>\n",
       "      <td></td>\n",
       "      <td>0</td>\n",
       "      <td>Other</td>\n",
       "      <td>...</td>\n",
       "      <td>NaN</td>\n",
       "      <td>2025-06-04 07:45:00</td>\n",
       "      <td>2025</td>\n",
       "      <td>6</td>\n",
       "      <td>4</td>\n",
       "      <td>Wednesday</td>\n",
       "      <td>7</td>\n",
       "      <td>False</td>\n",
       "      <td>UNKNOWN</td>\n",
       "      <td>True</td>\n",
       "    </tr>\n",
       "  </tbody>\n",
       "</table>\n",
       "<p>5 rows × 31 columns</p>\n",
       "</div>"
      ],
      "text/plain": [
       "    objectid  ticket_number  issuing_agency_code  \\\n",
       "30  84395696      275257905                   50   \n",
       "32  84395698      275697181                    4   \n",
       "33  84395699      275697203                    4   \n",
       "34  84395717      276503242                   50   \n",
       "35  84395718      276503253                   50   \n",
       "\n",
       "                    issuing_agency_name issuing_agency_short violation_code  \\\n",
       "30  FEDERAL PROTECTIVE SERVICES (US GV)                  FPS           P055   \n",
       "32   METROPOLITAN POLICE DPT-DISTRICT 4               MPD-4D           P170   \n",
       "33   METROPOLITAN POLICE DPT-DISTRICT 4               MPD-4D           P170   \n",
       "34  FEDERAL PROTECTIVE SERVICES (US GV)                  FPS           P269   \n",
       "35  FEDERAL PROTECTIVE SERVICES (US GV)                  FPS           P168   \n",
       "\n",
       "                         location plate_state  disposition_code  \\\n",
       "30  SIDE 1201 CONSTITUTION AVE NW                           134   \n",
       "32             600 BLK OTIS PL NW                             0   \n",
       "33             600 BLK OTIS PL NW                             0   \n",
       "34     NS 600 BLK MARYLAND AVE SW                             0   \n",
       "35     NS 600 BLK MARYLAND AVE SW                             0   \n",
       "\n",
       "   disposition_type  ...  violation_type_desc      issue_datetime  year  \\\n",
       "30        Dismissed  ...                  NaN 2025-06-17 12:28:00  2025   \n",
       "32            Other  ...                  NaN 2025-06-20 23:38:00  2025   \n",
       "33            Other  ...                  NaN 2025-06-20 23:54:00  2025   \n",
       "34            Other  ...                  NaN 2025-06-04 07:45:00  2025   \n",
       "35            Other  ...                  NaN 2025-06-04 07:45:00  2025   \n",
       "\n",
       "    month  day  day_of_week  hour  is_weekend          is_fleet_gov_or_rental  \n",
       "30      6   17      Tuesday    12       False  UNKNOWN                   True  \n",
       "32      6   20       Friday    23       False  UNKNOWN                   True  \n",
       "33      6   20       Friday    23       False  UNKNOWN                   True  \n",
       "34      6    4    Wednesday     7       False  UNKNOWN                   True  \n",
       "35      6    4    Wednesday     7       False  UNKNOWN                   True  \n",
       "\n",
       "[5 rows x 31 columns]"
      ]
     },
     "execution_count": 40,
     "metadata": {},
     "output_type": "execute_result"
    }
   ],
   "source": [
    "df.head()"
   ]
  },
  {
   "cell_type": "code",
   "execution_count": 41,
   "metadata": {},
   "outputs": [
    {
     "data": {
      "text/html": [
       "<div>\n",
       "<style scoped>\n",
       "    .dataframe tbody tr th:only-of-type {\n",
       "        vertical-align: middle;\n",
       "    }\n",
       "\n",
       "    .dataframe tbody tr th {\n",
       "        vertical-align: top;\n",
       "    }\n",
       "\n",
       "    .dataframe thead th {\n",
       "        text-align: right;\n",
       "    }\n",
       "</style>\n",
       "<table border=\"1\" class=\"dataframe\">\n",
       "  <thead>\n",
       "    <tr style=\"text-align: right;\">\n",
       "      <th></th>\n",
       "      <th>objectid</th>\n",
       "      <th>ticket_number</th>\n",
       "      <th>issuing_agency_code</th>\n",
       "      <th>issuing_agency_name</th>\n",
       "      <th>issuing_agency_short</th>\n",
       "      <th>violation_code</th>\n",
       "      <th>location</th>\n",
       "      <th>plate_state</th>\n",
       "      <th>disposition_code</th>\n",
       "      <th>disposition_type</th>\n",
       "      <th>...</th>\n",
       "      <th>violation_type_desc</th>\n",
       "      <th>issue_datetime</th>\n",
       "      <th>year</th>\n",
       "      <th>month</th>\n",
       "      <th>day</th>\n",
       "      <th>day_of_week</th>\n",
       "      <th>hour</th>\n",
       "      <th>is_weekend</th>\n",
       "      <th></th>\n",
       "      <th>is_fleet_gov_or_rental</th>\n",
       "    </tr>\n",
       "  </thead>\n",
       "  <tbody>\n",
       "  </tbody>\n",
       "</table>\n",
       "<p>0 rows × 31 columns</p>\n",
       "</div>"
      ],
      "text/plain": [
       "Empty DataFrame\n",
       "Columns: [objectid, ticket_number, issuing_agency_code, issuing_agency_name, issuing_agency_short, violation_code, location, plate_state, disposition_code, disposition_type, fine_amount, total_paid, penalty_1, penalty_2, penalty_3, penalty_4, penalty_5, latitude, longitude, gis_last_mod_dttm, violation_proc_desc, violation_type_desc, issue_datetime, year, month, day, day_of_week, hour, is_weekend, , is_fleet_gov_or_rental]\n",
       "Index: []\n",
       "\n",
       "[0 rows x 31 columns]"
      ]
     },
     "execution_count": 41,
     "metadata": {},
     "output_type": "execute_result"
    }
   ],
   "source": [
    "df[df['issue_datetime'].isna()]"
   ]
  },
  {
   "cell_type": "code",
   "execution_count": 44,
   "metadata": {
    "id": "gLF_uuVo1Xi8"
   },
   "outputs": [],
   "source": [
    "df.to_csv('../CleanData/cleaned_parking_violations_v2.csv', index=False)"
   ]
  },
  {
   "cell_type": "code",
   "execution_count": null,
   "metadata": {
    "id": "8NiTfeywnNXQ"
   },
   "outputs": [],
   "source": []
  }
 ],
 "metadata": {
  "colab": {
   "provenance": []
  },
  "kernelspec": {
   "display_name": "base",
   "language": "python",
   "name": "python3"
  },
  "language_info": {
   "codemirror_mode": {
    "name": "ipython",
    "version": 3
   },
   "file_extension": ".py",
   "mimetype": "text/x-python",
   "name": "python",
   "nbconvert_exporter": "python",
   "pygments_lexer": "ipython3",
   "version": "3.13.5"
  }
 },
 "nbformat": 4,
 "nbformat_minor": 4
}
