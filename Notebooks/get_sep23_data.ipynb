{
 "cells": [
  {
   "cell_type": "code",
   "execution_count": null,
   "id": "e26b9979-3a63-42bd-91a1-b15ac38997c1",
   "metadata": {},
   "outputs": [],
   "source": [
    "# not in opendata.dc.gov but in gis"
   ]
  },
  {
   "cell_type": "code",
   "execution_count": 4,
   "id": "b9275567-1a07-46cc-8309-de0ed70a14b1",
   "metadata": {},
   "outputs": [],
   "source": [
    "import csv, requests, sys, time\n",
    "\n",
    "url = \"https://maps2.dcgis.dc.gov/dcgis/rest/services/DCGIS_DATA/Violations_Parking_2023/MapServer/8/query\"\n",
    "\n",
    "params = {\n",
    "    \"where\": \"1=1\",\n",
    "    \"outFields\": \"*\",\n",
    "    \"returnGeometry\": \"false\",\n",
    "    \"f\": \"json\",\n",
    "}\n",
    "\n",
    "batch = 2000 \n",
    "output = \"../Data/september_2023_parking_violations.csv\""
   ]
  },
  {
   "cell_type": "code",
   "execution_count": 5,
   "id": "d41bb382-6949-47ec-8250-67d193326ec4",
   "metadata": {},
   "outputs": [
    {
     "name": "stdout",
     "output_type": "stream",
     "text": [
      "Done. Wrote 110460 rows to ../Data/september_2023_parking_violations.csv\n"
     ]
    }
   ],
   "source": [
    "def supports_offset():\n",
    "    p = dict(params)\n",
    "    p.update({\"resultOffset\": 0, \"resultRecordCount\": 1})\n",
    "    r = requests.get(url, params=p, timeout=60).json()\n",
    "    return \"features\" in r\n",
    "\n",
    "def fetch_batch(params):\n",
    "    r = requests.get(url, params=params, timeout=120)\n",
    "    r.raise_for_status()\n",
    "    data = r.json()\n",
    "    if \"error\" in data:\n",
    "        raise RuntimeError(data[\"error\"])\n",
    "    return data.get(\"features\", [])\n",
    "\n",
    "def write_csv(rows, fieldnames):\n",
    "    with open(output, \"w\", newline=\"\", encoding=\"utf-8\") as f:\n",
    "        w = csv.DictWriter(f, fieldnames=fieldnames)\n",
    "        w.writeheader()\n",
    "        for row in rows:\n",
    "            w.writerow(row)\n",
    "\n",
    "all_rows = []\n",
    "fieldnames = None\n",
    "\n",
    "try:\n",
    "    if supports_offset():\n",
    "        offset = 0\n",
    "        while True:\n",
    "            params = dict(params,\n",
    "                          resultOffset=offset,\n",
    "                          resultRecordCount=batch,\n",
    "                          orderByFields=\"OBJECTID\")\n",
    "            feats = fetch_batch(params)\n",
    "            if not feats:\n",
    "                break\n",
    "            for ft in feats:\n",
    "                attrs = ft.get(\"attributes\", {})\n",
    "                if fieldnames is None:\n",
    "                    fieldnames = list(attrs.keys())\n",
    "                all_rows.append(attrs)\n",
    "            offset += len(feats)\n",
    "            time.sleep(0.2)\n",
    "    else:\n",
    "        last = -1\n",
    "        while True:\n",
    "            params = dict(params)\n",
    "            params[\"where\"] = f\"OBJECTID > {last}\"\n",
    "            params[\"orderByFields\"] = \"OBJECTID\"\n",
    "            params[\"resultRecordCount\"] = batch\n",
    "            feats = fetch_batch(params)\n",
    "            if not feats:\n",
    "                break\n",
    "            for ft in feats:\n",
    "                attrs = ft.get(\"attributes\", {})\n",
    "                if fieldnames is None:\n",
    "                    fieldnames = list(attrs.keys())\n",
    "                all_rows.append(attrs)\n",
    "                last = max(last, attrs.get(\"OBJECTID\", last))\n",
    "            time.sleep(0.2)\n",
    "\n",
    "    if not all_rows:\n",
    "        print(\"No rows returned. Check your WHERE clause or layer access.\")\n",
    "        sys.exit(0)\n",
    "\n",
    "    fieldnames = fieldnames or sorted({k for r in all_rows for k in r.keys()})\n",
    "    write_csv(all_rows, fieldnames)\n",
    "    print(f\"Done. Wrote {len(all_rows)} rows to {output}\")\n",
    "\n",
    "except Exception as e:\n",
    "    print(\"Error:\", e)\n",
    "    sys.exit(1)"
   ]
  },
  {
   "cell_type": "code",
   "execution_count": null,
   "id": "1c669548-79cc-45cc-b7b6-c3406de8cf8d",
   "metadata": {},
   "outputs": [],
   "source": []
  }
 ],
 "metadata": {
  "kernelspec": {
   "display_name": "Python 3 (ipykernel)",
   "language": "python",
   "name": "python3"
  },
  "language_info": {
   "codemirror_mode": {
    "name": "ipython",
    "version": 3
   },
   "file_extension": ".py",
   "mimetype": "text/x-python",
   "name": "python",
   "nbconvert_exporter": "python",
   "pygments_lexer": "ipython3",
   "version": "3.11.8"
  }
 },
 "nbformat": 4,
 "nbformat_minor": 5
}
